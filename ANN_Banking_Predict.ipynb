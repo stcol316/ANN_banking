{
  "nbformat": 4,
  "nbformat_minor": 0,
  "metadata": {
    "colab": {
      "name": "ANN_Banking_Predict.ipynb",
      "provenance": [],
      "collapsed_sections": [],
      "authorship_tag": "ABX9TyON54+y9ndDl2iY1BAvV3q/",
      "include_colab_link": true
    },
    "kernelspec": {
      "name": "python3",
      "display_name": "Python 3"
    }
  },
  "cells": [
    {
      "cell_type": "markdown",
      "metadata": {
        "id": "view-in-github",
        "colab_type": "text"
      },
      "source": [
        "<a href=\"https://colab.research.google.com/github/stcol316/ANN_banking/blob/main/ANN_Banking_Predict.ipynb\" target=\"_parent\"><img src=\"https://colab.research.google.com/assets/colab-badge.svg\" alt=\"Open In Colab\"/></a>"
      ]
    },
    {
      "cell_type": "markdown",
      "metadata": {
        "id": "frB2kX6sRbw4"
      },
      "source": [
        "# Imports\r\n"
      ]
    },
    {
      "cell_type": "markdown",
      "metadata": {
        "id": "0WHPdiVlNtSv"
      },
      "source": [
        "Import Libraries"
      ]
    },
    {
      "cell_type": "code",
      "metadata": {
        "id": "DWDz1XsHNvJt"
      },
      "source": [
        "import numpy as np\r\n",
        "import pandas as pd\r\n",
        "import tensorflow as tf\r\n"
      ],
      "execution_count": 53,
      "outputs": []
    },
    {
      "cell_type": "markdown",
      "metadata": {
        "id": "Q4wjwYY4Ovmy"
      },
      "source": [
        "Import Dataset"
      ]
    },
    {
      "cell_type": "code",
      "metadata": {
        "id": "g_9oeO95Oxg7"
      },
      "source": [
        "dataset = pd.read_csv(\"Churn_Modelling.csv\")\r\n",
        "x = dataset.iloc[:, 3: -1].values\r\n",
        "y = dataset.iloc[:, -1].values"
      ],
      "execution_count": 54,
      "outputs": []
    },
    {
      "cell_type": "markdown",
      "metadata": {
        "id": "YPoZZeb7RNsg"
      },
      "source": [
        "# Encode Categorical Data\r\n"
      ]
    },
    {
      "cell_type": "markdown",
      "metadata": {
        "id": "QZthp72RQ60t"
      },
      "source": [
        "Label Encode Gender Column"
      ]
    },
    {
      "cell_type": "code",
      "metadata": {
        "id": "QcxEsV4KQJ2E"
      },
      "source": [
        "from sklearn.preprocessing import LabelEncoder\r\n",
        "le = LabelEncoder()\r\n",
        "x[:, 2] = le.fit_transform(x[:, 2])"
      ],
      "execution_count": 55,
      "outputs": []
    },
    {
      "cell_type": "code",
      "metadata": {
        "id": "4tXkmPw1cdke",
        "outputId": "37a752c9-385a-4ac0-9c67-ff08f0887ad3",
        "colab": {
          "base_uri": "https://localhost:8080/"
        }
      },
      "source": [
        "print(x)"
      ],
      "execution_count": 56,
      "outputs": [
        {
          "output_type": "stream",
          "text": [
            "[[619 'France' 0 ... 1 1 101348.88]\n",
            " [608 'Spain' 0 ... 0 1 112542.58]\n",
            " [502 'France' 0 ... 1 0 113931.57]\n",
            " ...\n",
            " [709 'France' 0 ... 0 1 42085.58]\n",
            " [772 'Germany' 1 ... 1 0 92888.52]\n",
            " [792 'France' 0 ... 1 0 38190.78]]\n"
          ],
          "name": "stdout"
        }
      ]
    },
    {
      "cell_type": "markdown",
      "metadata": {
        "id": "4AmQmMtRQ1KL"
      },
      "source": [
        "One Hot Encode Geography Column"
      ]
    },
    {
      "cell_type": "code",
      "metadata": {
        "id": "M_-FuuJ4RjAk"
      },
      "source": [
        "from sklearn.compose import ColumnTransformer\r\n",
        "from sklearn.preprocessing import OneHotEncoder\r\n",
        "ct = ColumnTransformer(transformers =[('encoder', OneHotEncoder(),[1])], remainder = 'passthrough')\r\n",
        "x = np.array(ct.fit_transform(x))"
      ],
      "execution_count": 57,
      "outputs": []
    },
    {
      "cell_type": "code",
      "metadata": {
        "id": "DDadQ7UJcWRP",
        "outputId": "7ad3a193-cbef-4f91-c727-2d7b4525644a",
        "colab": {
          "base_uri": "https://localhost:8080/"
        }
      },
      "source": [
        "print(x)"
      ],
      "execution_count": 58,
      "outputs": [
        {
          "output_type": "stream",
          "text": [
            "[[1.0 0.0 0.0 ... 1 1 101348.88]\n",
            " [0.0 0.0 1.0 ... 0 1 112542.58]\n",
            " [1.0 0.0 0.0 ... 1 0 113931.57]\n",
            " ...\n",
            " [1.0 0.0 0.0 ... 0 1 42085.58]\n",
            " [0.0 1.0 0.0 ... 1 0 92888.52]\n",
            " [1.0 0.0 0.0 ... 1 0 38190.78]]\n"
          ],
          "name": "stdout"
        }
      ]
    },
    {
      "cell_type": "markdown",
      "metadata": {
        "id": "YjTNXMb5VNC7"
      },
      "source": [
        "# Split the dataset into Training and Test sets\r\n"
      ]
    },
    {
      "cell_type": "code",
      "metadata": {
        "id": "ytFFwwJYVMrx"
      },
      "source": [
        "from sklearn.model_selection import train_test_split\r\n",
        "x_train, x_test, y_train, y_test = train_test_split(x, y, test_size = 0.2, random_state = 0)"
      ],
      "execution_count": 59,
      "outputs": []
    },
    {
      "cell_type": "markdown",
      "metadata": {
        "id": "HhvrgDFIVs-P"
      },
      "source": [
        "#Feature Scaling"
      ]
    },
    {
      "cell_type": "code",
      "metadata": {
        "id": "SkMiYWkJVvKd"
      },
      "source": [
        "from sklearn.preprocessing import StandardScaler\r\n",
        "sc = StandardScaler()\r\n",
        "x_train = sc.fit_transform(x_train)\r\n",
        "x_test = sc.transform(x_test)"
      ],
      "execution_count": 60,
      "outputs": []
    },
    {
      "cell_type": "markdown",
      "metadata": {
        "id": "sElnaDR9XC5e"
      },
      "source": [
        "# Build the ANN\r\n",
        "\r\n",
        "\r\n"
      ]
    },
    {
      "cell_type": "markdown",
      "metadata": {
        "id": "eaIcIpkaW-fH"
      },
      "source": [
        "Initialise ANN"
      ]
    },
    {
      "cell_type": "code",
      "metadata": {
        "id": "K648X6I3WvkH"
      },
      "source": [
        "ann = tf.keras.models.Sequential()"
      ],
      "execution_count": 61,
      "outputs": []
    },
    {
      "cell_type": "markdown",
      "metadata": {
        "id": "z7mXeV-BXOwe"
      },
      "source": [
        "Add Hidden Layers\r\n"
      ]
    },
    {
      "cell_type": "code",
      "metadata": {
        "id": "LjX-9rXQXR65"
      },
      "source": [
        "#6 neurons and the rectifier activation function\r\n",
        "ann.add(tf.keras.layers.Dense(units = 6, activation = 'relu'))\r\n",
        "ann.add(tf.keras.layers.Dense(units = 6, activation = 'relu'))"
      ],
      "execution_count": 62,
      "outputs": []
    },
    {
      "cell_type": "markdown",
      "metadata": {
        "id": "50Mmoo41YXmu"
      },
      "source": [
        "Add Output Layer"
      ]
    },
    {
      "cell_type": "code",
      "metadata": {
        "id": "pN8PcXlPYWUa"
      },
      "source": [
        "#Binary outcome = 1 unit and sigmoid rather than softmax\r\n",
        "ann.add(tf.keras.layers.Dense(units = 1, activation = 'sigmoid'))"
      ],
      "execution_count": 63,
      "outputs": []
    },
    {
      "cell_type": "markdown",
      "metadata": {
        "id": "yNFS414IZpZy"
      },
      "source": [
        "Compiling the ANN"
      ]
    },
    {
      "cell_type": "code",
      "metadata": {
        "id": "-4ZMXWqrZsWC"
      },
      "source": [
        "#binary so not categorical_crossentropy\r\n",
        "ann.compile(optimizer = 'adam', loss = 'binary_crossentropy', metrics = ['accuracy'] )"
      ],
      "execution_count": 64,
      "outputs": []
    },
    {
      "cell_type": "markdown",
      "metadata": {
        "id": "-N4sKBPSanSj"
      },
      "source": [
        "Train ANN on Training Set"
      ]
    },
    {
      "cell_type": "code",
      "metadata": {
        "colab": {
          "base_uri": "https://localhost:8080/"
        },
        "id": "Ji9izvbyZr1k",
        "outputId": "da25ad09-22b9-450c-e6a2-71dcd9a855d4"
      },
      "source": [
        "ann.fit(x_train, y_train, batch_size = 32, epochs = 100)"
      ],
      "execution_count": null,
      "outputs": [
        {
          "output_type": "stream",
          "text": [
            "Epoch 1/100\n",
            "250/250 [==============================] - 0s 975us/step - loss: 0.5866 - accuracy: 0.7276\n",
            "Epoch 2/100\n",
            "250/250 [==============================] - 0s 918us/step - loss: 0.4776 - accuracy: 0.7960\n",
            "Epoch 3/100\n",
            "250/250 [==============================] - 0s 872us/step - loss: 0.4545 - accuracy: 0.7960\n",
            "Epoch 4/100\n",
            "250/250 [==============================] - 0s 904us/step - loss: 0.4416 - accuracy: 0.7960\n",
            "Epoch 5/100\n",
            "250/250 [==============================] - 0s 930us/step - loss: 0.4347 - accuracy: 0.7961\n",
            "Epoch 6/100\n",
            "250/250 [==============================] - 0s 922us/step - loss: 0.4302 - accuracy: 0.7971\n",
            "Epoch 7/100\n",
            "250/250 [==============================] - 0s 935us/step - loss: 0.4265 - accuracy: 0.7990\n",
            "Epoch 8/100\n",
            "250/250 [==============================] - 0s 898us/step - loss: 0.4221 - accuracy: 0.8006\n",
            "Epoch 9/100\n",
            "250/250 [==============================] - 0s 945us/step - loss: 0.4169 - accuracy: 0.8018\n",
            "Epoch 10/100\n",
            "250/250 [==============================] - 0s 898us/step - loss: 0.4103 - accuracy: 0.8209\n",
            "Epoch 11/100\n",
            "250/250 [==============================] - 0s 905us/step - loss: 0.4005 - accuracy: 0.8329\n",
            "Epoch 12/100\n",
            "250/250 [==============================] - 0s 894us/step - loss: 0.3902 - accuracy: 0.8390\n",
            "Epoch 13/100\n",
            "250/250 [==============================] - 0s 897us/step - loss: 0.3811 - accuracy: 0.8456\n",
            "Epoch 14/100\n",
            "250/250 [==============================] - 0s 912us/step - loss: 0.3733 - accuracy: 0.8495\n",
            "Epoch 15/100\n",
            "250/250 [==============================] - 0s 960us/step - loss: 0.3668 - accuracy: 0.8530\n",
            "Epoch 16/100\n",
            "250/250 [==============================] - 0s 909us/step - loss: 0.3622 - accuracy: 0.8536\n",
            "Epoch 17/100\n",
            "250/250 [==============================] - 0s 951us/step - loss: 0.3585 - accuracy: 0.8549\n",
            "Epoch 18/100\n",
            "250/250 [==============================] - 0s 926us/step - loss: 0.3561 - accuracy: 0.8560\n",
            "Epoch 19/100\n",
            "250/250 [==============================] - 0s 1ms/step - loss: 0.3536 - accuracy: 0.8574\n",
            "Epoch 20/100\n",
            "250/250 [==============================] - 0s 1ms/step - loss: 0.3517 - accuracy: 0.8561\n",
            "Epoch 21/100\n",
            "250/250 [==============================] - 0s 911us/step - loss: 0.3503 - accuracy: 0.8579\n",
            "Epoch 22/100\n",
            "250/250 [==============================] - 0s 955us/step - loss: 0.3487 - accuracy: 0.8569\n",
            "Epoch 23/100\n",
            "250/250 [==============================] - 0s 902us/step - loss: 0.3472 - accuracy: 0.8579\n",
            "Epoch 24/100\n",
            "250/250 [==============================] - 0s 935us/step - loss: 0.3461 - accuracy: 0.8574\n",
            "Epoch 25/100\n",
            "250/250 [==============================] - 0s 911us/step - loss: 0.3451 - accuracy: 0.8584\n",
            "Epoch 26/100\n",
            "250/250 [==============================] - 0s 917us/step - loss: 0.3441 - accuracy: 0.8594\n",
            "Epoch 27/100\n",
            "250/250 [==============================] - 0s 908us/step - loss: 0.3438 - accuracy: 0.8597\n",
            "Epoch 28/100\n",
            "250/250 [==============================] - 0s 909us/step - loss: 0.3428 - accuracy: 0.8587\n",
            "Epoch 29/100\n",
            "250/250 [==============================] - 0s 902us/step - loss: 0.3419 - accuracy: 0.8585\n",
            "Epoch 30/100\n",
            "250/250 [==============================] - 0s 903us/step - loss: 0.3412 - accuracy: 0.8601\n",
            "Epoch 31/100\n",
            "250/250 [==============================] - 0s 921us/step - loss: 0.3404 - accuracy: 0.8606\n",
            "Epoch 32/100\n",
            "250/250 [==============================] - 0s 964us/step - loss: 0.3400 - accuracy: 0.8599\n",
            "Epoch 33/100\n",
            "250/250 [==============================] - 0s 919us/step - loss: 0.3396 - accuracy: 0.8608\n",
            "Epoch 34/100\n",
            "250/250 [==============================] - 0s 891us/step - loss: 0.3391 - accuracy: 0.8604\n",
            "Epoch 35/100\n",
            "250/250 [==============================] - 0s 986us/step - loss: 0.3388 - accuracy: 0.8604\n",
            "Epoch 36/100\n",
            "250/250 [==============================] - 0s 947us/step - loss: 0.3384 - accuracy: 0.8610\n",
            "Epoch 37/100\n",
            "250/250 [==============================] - 0s 911us/step - loss: 0.3381 - accuracy: 0.8621\n",
            "Epoch 38/100\n",
            "250/250 [==============================] - 0s 965us/step - loss: 0.3376 - accuracy: 0.8614\n",
            "Epoch 39/100\n",
            "250/250 [==============================] - 0s 952us/step - loss: 0.3375 - accuracy: 0.8636\n",
            "Epoch 40/100\n",
            "250/250 [==============================] - 0s 912us/step - loss: 0.3373 - accuracy: 0.8626\n",
            "Epoch 41/100\n",
            "250/250 [==============================] - 0s 915us/step - loss: 0.3368 - accuracy: 0.8612\n",
            "Epoch 42/100\n",
            "250/250 [==============================] - 0s 894us/step - loss: 0.3370 - accuracy: 0.8615\n",
            "Epoch 43/100\n",
            "250/250 [==============================] - 0s 925us/step - loss: 0.3366 - accuracy: 0.8618\n",
            "Epoch 44/100\n",
            "250/250 [==============================] - 0s 929us/step - loss: 0.3366 - accuracy: 0.8633\n",
            "Epoch 45/100\n",
            "250/250 [==============================] - 0s 900us/step - loss: 0.3362 - accuracy: 0.8615\n",
            "Epoch 46/100\n",
            "250/250 [==============================] - 0s 920us/step - loss: 0.3361 - accuracy: 0.8619\n",
            "Epoch 47/100\n",
            "250/250 [==============================] - 0s 887us/step - loss: 0.3357 - accuracy: 0.8631\n",
            "Epoch 48/100\n",
            "250/250 [==============================] - 0s 931us/step - loss: 0.3359 - accuracy: 0.8626\n",
            "Epoch 49/100\n",
            "250/250 [==============================] - 0s 926us/step - loss: 0.3354 - accuracy: 0.8633\n",
            "Epoch 50/100\n",
            "250/250 [==============================] - 0s 933us/step - loss: 0.3354 - accuracy: 0.8633\n",
            "Epoch 51/100\n",
            "250/250 [==============================] - 0s 922us/step - loss: 0.3351 - accuracy: 0.8630\n",
            "Epoch 52/100\n",
            "250/250 [==============================] - 0s 955us/step - loss: 0.3350 - accuracy: 0.8629\n",
            "Epoch 53/100\n",
            "250/250 [==============================] - 0s 881us/step - loss: 0.3353 - accuracy: 0.8625\n",
            "Epoch 54/100\n",
            "250/250 [==============================] - 0s 898us/step - loss: 0.3349 - accuracy: 0.8622\n",
            "Epoch 55/100\n",
            "250/250 [==============================] - 0s 938us/step - loss: 0.3347 - accuracy: 0.8624\n",
            "Epoch 56/100\n",
            "250/250 [==============================] - 0s 925us/step - loss: 0.3346 - accuracy: 0.8626\n",
            "Epoch 57/100\n",
            "250/250 [==============================] - 0s 949us/step - loss: 0.3346 - accuracy: 0.8620\n",
            "Epoch 58/100\n",
            "250/250 [==============================] - 0s 942us/step - loss: 0.3343 - accuracy: 0.8631\n",
            "Epoch 59/100\n",
            "250/250 [==============================] - 0s 902us/step - loss: 0.3339 - accuracy: 0.8631\n",
            "Epoch 60/100\n",
            "250/250 [==============================] - 0s 919us/step - loss: 0.3344 - accuracy: 0.8633\n",
            "Epoch 61/100\n",
            "250/250 [==============================] - 0s 946us/step - loss: 0.3338 - accuracy: 0.8621\n",
            "Epoch 62/100\n",
            "250/250 [==============================] - 0s 909us/step - loss: 0.3340 - accuracy: 0.8627\n",
            "Epoch 63/100\n",
            "250/250 [==============================] - 0s 965us/step - loss: 0.3342 - accuracy: 0.8633\n",
            "Epoch 64/100\n",
            "250/250 [==============================] - 0s 883us/step - loss: 0.3339 - accuracy: 0.8637\n",
            "Epoch 65/100\n",
            "250/250 [==============================] - 0s 963us/step - loss: 0.3341 - accuracy: 0.8633\n",
            "Epoch 66/100\n",
            "250/250 [==============================] - 0s 908us/step - loss: 0.3340 - accuracy: 0.8631\n",
            "Epoch 67/100\n",
            "250/250 [==============================] - 0s 939us/step - loss: 0.3335 - accuracy: 0.8643\n",
            "Epoch 68/100\n",
            "250/250 [==============================] - 0s 924us/step - loss: 0.3337 - accuracy: 0.8643\n",
            "Epoch 69/100\n",
            "250/250 [==============================] - 0s 938us/step - loss: 0.3333 - accuracy: 0.8630\n",
            "Epoch 70/100\n",
            "250/250 [==============================] - 0s 930us/step - loss: 0.3333 - accuracy: 0.8626\n",
            "Epoch 71/100\n",
            "250/250 [==============================] - 0s 944us/step - loss: 0.3336 - accuracy: 0.8641\n",
            "Epoch 72/100\n",
            "250/250 [==============================] - 0s 924us/step - loss: 0.3333 - accuracy: 0.8637\n",
            "Epoch 73/100\n",
            "250/250 [==============================] - 0s 918us/step - loss: 0.3333 - accuracy: 0.8633\n",
            "Epoch 74/100\n",
            "250/250 [==============================] - 0s 1ms/step - loss: 0.3333 - accuracy: 0.8644\n",
            "Epoch 75/100\n",
            "250/250 [==============================] - 0s 903us/step - loss: 0.3331 - accuracy: 0.8630\n",
            "Epoch 76/100\n",
            "250/250 [==============================] - 0s 953us/step - loss: 0.3328 - accuracy: 0.8633\n",
            "Epoch 77/100\n",
            "250/250 [==============================] - 0s 953us/step - loss: 0.3327 - accuracy: 0.8649\n",
            "Epoch 78/100\n",
            "250/250 [==============================] - 0s 940us/step - loss: 0.3329 - accuracy: 0.8633\n",
            "Epoch 79/100\n",
            "250/250 [==============================] - 0s 896us/step - loss: 0.3325 - accuracy: 0.8646\n",
            "Epoch 80/100\n",
            "250/250 [==============================] - 0s 912us/step - loss: 0.3327 - accuracy: 0.8634\n",
            "Epoch 81/100\n",
            "250/250 [==============================] - 0s 946us/step - loss: 0.3327 - accuracy: 0.8637\n",
            "Epoch 82/100\n",
            "250/250 [==============================] - 0s 913us/step - loss: 0.3324 - accuracy: 0.8634\n",
            "Epoch 83/100\n",
            "250/250 [==============================] - 0s 897us/step - loss: 0.3326 - accuracy: 0.8641\n",
            "Epoch 84/100\n",
            "250/250 [==============================] - 0s 948us/step - loss: 0.3323 - accuracy: 0.8634\n",
            "Epoch 85/100\n",
            "176/250 [====================>.........] - ETA: 0s - loss: 0.3384 - accuracy: 0.8613"
          ],
          "name": "stdout"
        }
      ]
    },
    {
      "cell_type": "markdown",
      "metadata": {
        "id": "3h1dPI80b3PO"
      },
      "source": [
        "Predicting A Single Observation"
      ]
    },
    {
      "cell_type": "code",
      "metadata": {
        "colab": {
          "base_uri": "https://localhost:8080/"
        },
        "id": "rWBhDwxxb6x3",
        "outputId": "09559cd7-c769-4539-e42d-a0b3d7ad03f0"
      },
      "source": [
        "print(ann.predict(sc.transform([[1, 0, 0, 600, 1, 40,3, 60000, 2, 1, 1, 50000]])) > 0.5)"
      ],
      "execution_count": 70,
      "outputs": [
        {
          "output_type": "stream",
          "text": [
            "[[False]]\n"
          ],
          "name": "stdout"
        }
      ]
    },
    {
      "cell_type": "markdown",
      "metadata": {
        "id": "EtXW8S0gd_z1"
      },
      "source": [
        "Predict Test Set Results"
      ]
    },
    {
      "cell_type": "code",
      "metadata": {
        "id": "tT62ken4eDHl",
        "outputId": "304429dd-5342-4b12-c888-534e47084a56",
        "colab": {
          "base_uri": "https://localhost:8080/"
        }
      },
      "source": [
        "y_pred = ann.predict(x_test)\r\n",
        "y_pred = (y_pred > 0.5)\r\n",
        "print(np.concatenate((y_pred.reshape(len(y_pred), 1), y_test.reshape(len(y_test),1)),1))"
      ],
      "execution_count": 72,
      "outputs": [
        {
          "output_type": "stream",
          "text": [
            "[[0 0]\n",
            " [0 1]\n",
            " [0 0]\n",
            " ...\n",
            " [0 0]\n",
            " [0 0]\n",
            " [0 0]]\n"
          ],
          "name": "stdout"
        }
      ]
    },
    {
      "cell_type": "markdown",
      "metadata": {
        "id": "4lfswITweuOL"
      },
      "source": [
        "Confusion Matrix"
      ]
    },
    {
      "cell_type": "code",
      "metadata": {
        "id": "ttfJ0ABrewPK",
        "outputId": "70348080-5a05-4fa8-b088-5893957c229f",
        "colab": {
          "base_uri": "https://localhost:8080/"
        }
      },
      "source": [
        "from sklearn.metrics import confusion_matrix, accuracy_score\r\n",
        "cm = confusion_matrix(y_test, y_pred)\r\n",
        "print(cm)\r\n",
        "accuracy_score(y_test, y_pred)"
      ],
      "execution_count": 75,
      "outputs": [
        {
          "output_type": "stream",
          "text": [
            "[[1523   72]\n",
            " [ 198  207]]\n"
          ],
          "name": "stdout"
        },
        {
          "output_type": "execute_result",
          "data": {
            "text/plain": [
              "0.865"
            ]
          },
          "metadata": {
            "tags": []
          },
          "execution_count": 75
        }
      ]
    }
  ]
}