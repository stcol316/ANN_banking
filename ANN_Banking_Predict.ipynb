{
  "nbformat": 4,
  "nbformat_minor": 0,
  "metadata": {
    "colab": {
      "name": "ANN_Banking_Predict.ipynb",
      "provenance": [],
      "collapsed_sections": [],
      "authorship_tag": "ABX9TyNt2EouoV0EndFpXTzF118q",
      "include_colab_link": true
    },
    "kernelspec": {
      "name": "python3",
      "display_name": "Python 3"
    }
  },
  "cells": [
    {
      "cell_type": "markdown",
      "metadata": {
        "id": "view-in-github",
        "colab_type": "text"
      },
      "source": [
        "<a href=\"https://colab.research.google.com/github/stcol316/ANN_banking/blob/main/ANN_Banking_Predict.ipynb\" target=\"_parent\"><img src=\"https://colab.research.google.com/assets/colab-badge.svg\" alt=\"Open In Colab\"/></a>"
      ]
    },
    {
      "cell_type": "markdown",
      "metadata": {
        "id": "frB2kX6sRbw4"
      },
      "source": [
        "# Imports\r\n"
      ]
    },
    {
      "cell_type": "markdown",
      "metadata": {
        "id": "0WHPdiVlNtSv"
      },
      "source": [
        "Import Libraries"
      ]
    },
    {
      "cell_type": "code",
      "metadata": {
        "id": "DWDz1XsHNvJt"
      },
      "source": [
        "import numpy as np\r\n",
        "import pandas as pd\r\n",
        "import tensorflow as tf\r\n"
      ],
      "execution_count": 4,
      "outputs": []
    },
    {
      "cell_type": "markdown",
      "metadata": {
        "id": "Q4wjwYY4Ovmy"
      },
      "source": [
        "Import Dataset"
      ]
    },
    {
      "cell_type": "code",
      "metadata": {
        "id": "g_9oeO95Oxg7"
      },
      "source": [
        "dataset = pd.read_csv(\"Churn_Modelling.csv\")\r\n",
        "x = dataset.iloc[:, 3: -1].values\r\n",
        "y = dataset.iloc[:, -1].values"
      ],
      "execution_count": 6,
      "outputs": []
    },
    {
      "cell_type": "markdown",
      "metadata": {
        "id": "YPoZZeb7RNsg"
      },
      "source": [
        "# Encode Categorical Data\r\n"
      ]
    },
    {
      "cell_type": "markdown",
      "metadata": {
        "id": "QZthp72RQ60t"
      },
      "source": [
        "Label Encode Gender Column"
      ]
    },
    {
      "cell_type": "code",
      "metadata": {
        "id": "QcxEsV4KQJ2E"
      },
      "source": [
        "from sklearn.preprocessing import LabelEncoder\r\n",
        "le = LabelEncoder()\r\n",
        "x[:, 2] = le.fit_transform(x[:, 2])"
      ],
      "execution_count": 18,
      "outputs": []
    },
    {
      "cell_type": "markdown",
      "metadata": {
        "id": "4AmQmMtRQ1KL"
      },
      "source": [
        "One Hot Encode Geography Column"
      ]
    },
    {
      "cell_type": "code",
      "metadata": {
        "id": "M_-FuuJ4RjAk"
      },
      "source": [
        "from sklearn.compose import ColumnTransformer\r\n",
        "from sklearn.preprocessing import OneHotEncoder\r\n",
        "ct = ColumnTransformer(transformers =[('encoder', OneHotEncoder(),[1])], remainder = 'passthrough')\r\n",
        "x = np.array(ct.fit_transform(x))"
      ],
      "execution_count": 19,
      "outputs": []
    },
    {
      "cell_type": "markdown",
      "metadata": {
        "id": "YjTNXMb5VNC7"
      },
      "source": [
        "# Split the dataset into Training and Test sets\r\n"
      ]
    },
    {
      "cell_type": "code",
      "metadata": {
        "id": "ytFFwwJYVMrx"
      },
      "source": [
        "from sklearn.model_selection import train_test_split\r\n",
        "x_train, x_test, y_train, y_test = train_test_split(x, y, test_size = 0.2, random_state = 0)"
      ],
      "execution_count": 15,
      "outputs": []
    },
    {
      "cell_type": "markdown",
      "metadata": {
        "id": "HhvrgDFIVs-P"
      },
      "source": [
        "#Feature Scaling"
      ]
    },
    {
      "cell_type": "code",
      "metadata": {
        "id": "SkMiYWkJVvKd"
      },
      "source": [
        "from sklearn.preprocessing import StandardScaler\r\n",
        "sc = StandardScaler()\r\n",
        "x_train = sc.fit_transform(x_train)\r\n",
        "x_test = sc.transform(x_test)"
      ],
      "execution_count": 17,
      "outputs": []
    },
    {
      "cell_type": "markdown",
      "metadata": {
        "id": "sElnaDR9XC5e"
      },
      "source": [
        "# Build the ANN\r\n",
        "\r\n",
        "\r\n"
      ]
    },
    {
      "cell_type": "markdown",
      "metadata": {
        "id": "eaIcIpkaW-fH"
      },
      "source": [
        "Initialise ANN"
      ]
    },
    {
      "cell_type": "code",
      "metadata": {
        "id": "K648X6I3WvkH"
      },
      "source": [
        "ann = tf.keras.models.Sequential()"
      ],
      "execution_count": null,
      "outputs": []
    },
    {
      "cell_type": "markdown",
      "metadata": {
        "id": "z7mXeV-BXOwe"
      },
      "source": [
        "Add Hidden Layers\r\n"
      ]
    },
    {
      "cell_type": "code",
      "metadata": {
        "id": "LjX-9rXQXR65"
      },
      "source": [
        "#6 neurons and the rectifier activation function\r\n",
        "ann.add(tf.keras.layers.Dense(units = 6, activation = 'relu'))\r\n",
        "ann.add(tf.keras.layers.Dense(units = 6, activation = 'relu'))"
      ],
      "execution_count": null,
      "outputs": []
    },
    {
      "cell_type": "markdown",
      "metadata": {
        "id": "50Mmoo41YXmu"
      },
      "source": [
        "Add Output Layer"
      ]
    },
    {
      "cell_type": "code",
      "metadata": {
        "id": "pN8PcXlPYWUa"
      },
      "source": [
        "#Binary outcome = 1 unit\r\n",
        "ann.add(tf.keras.layers.Dense(units = 1, activation = 'sigmoid'))"
      ],
      "execution_count": null,
      "outputs": []
    }
  ]
}